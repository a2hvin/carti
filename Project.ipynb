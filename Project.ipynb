{
  "nbformat": 4,
  "nbformat_minor": 0,
  "metadata": {
    "colab": {
      "provenance": [],
      "authorship_tag": "ABX9TyOYCqYibE+b8Mx/xw3qdd/S",
      "include_colab_link": true
    },
    "kernelspec": {
      "name": "python3",
      "display_name": "Python 3"
    },
    "language_info": {
      "name": "python"
    }
  },
  "cells": [
    {
      "cell_type": "markdown",
      "metadata": {
        "id": "view-in-github",
        "colab_type": "text"
      },
      "source": [
        "<a href=\"https://colab.research.google.com/github/a2hvin/carti/blob/main/Project.ipynb\" target=\"_parent\"><img src=\"https://colab.research.google.com/assets/colab-badge.svg\" alt=\"Open In Colab\"/></a>"
      ]
    },
    {
      "cell_type": "code",
      "execution_count": null,
      "metadata": {
        "colab": {
          "base_uri": "https://localhost:8080/"
        },
        "id": "CN0bK_DiBUca",
        "outputId": "61dece0d-e5e4-4255-fecc-4ff23e16f78f"
      },
      "outputs": [
        {
          "output_type": "stream",
          "name": "stdout",
          "text": [
            "Collecting ucimlrepo\n",
            "  Downloading ucimlrepo-0.0.7-py3-none-any.whl.metadata (5.5 kB)\n",
            "Requirement already satisfied: pandas>=1.0.0 in /usr/local/lib/python3.11/dist-packages (from ucimlrepo) (2.2.2)\n",
            "Requirement already satisfied: certifi>=2020.12.5 in /usr/local/lib/python3.11/dist-packages (from ucimlrepo) (2025.7.14)\n",
            "Requirement already satisfied: numpy>=1.23.2 in /usr/local/lib/python3.11/dist-packages (from pandas>=1.0.0->ucimlrepo) (2.0.2)\n",
            "Requirement already satisfied: python-dateutil>=2.8.2 in /usr/local/lib/python3.11/dist-packages (from pandas>=1.0.0->ucimlrepo) (2.9.0.post0)\n",
            "Requirement already satisfied: pytz>=2020.1 in /usr/local/lib/python3.11/dist-packages (from pandas>=1.0.0->ucimlrepo) (2025.2)\n",
            "Requirement already satisfied: tzdata>=2022.7 in /usr/local/lib/python3.11/dist-packages (from pandas>=1.0.0->ucimlrepo) (2025.2)\n",
            "Requirement already satisfied: six>=1.5 in /usr/local/lib/python3.11/dist-packages (from python-dateutil>=2.8.2->pandas>=1.0.0->ucimlrepo) (1.17.0)\n",
            "Downloading ucimlrepo-0.0.7-py3-none-any.whl (8.0 kB)\n",
            "Installing collected packages: ucimlrepo\n",
            "Successfully installed ucimlrepo-0.0.7\n"
          ]
        }
      ],
      "source": [
        "pip install ucimlrepo"
      ]
    },
    {
      "cell_type": "code",
      "source": [
        "from ucimlrepo import fetch_ucirepo\n",
        "\n",
        "# fetch dataset\n",
        "solar_flare = fetch_ucirepo(id=89)\n",
        "\n",
        "# data (as pandas dataframes)\n",
        "X = solar_flare.data.features\n",
        "y = solar_flare.data.targets\n",
        "\n",
        "# metadata\n",
        "print(solar_flare.metadata)\n",
        "\n",
        "# variable information\n",
        "print(solar_flare.variables)\n"
      ],
      "metadata": {
        "id": "JQKNo-sABVaZ"
      },
      "execution_count": null,
      "outputs": []
    },
    {
      "cell_type": "code",
      "source": [
        "import pandas as pd\n",
        "from ucimlrepo import fetch_ucirepo\n",
        "\n",
        "\n",
        "solar_flare = fetch_ucirepo(id=89)\n",
        "X = solar_flare.data.features\n",
        "y = solar_flare.data.targets\n",
        "\n",
        "# (lowercase only)\n",
        "X.columns = [col.lower() for col in X.columns]\n",
        "y.columns = [col.lower() for col in y.columns]\n",
        "\n",
        "# Replace missing or invalid values (e.g., '?' strings) with NaN\n",
        "X = X.replace('?', pd.NA)\n",
        "y = y.replace('?', pd.NA)\n",
        "\n",
        "#  Remove any rows with missing values\n",
        "df = pd.concat([X, y], axis=1)\n",
        "df = df.dropna()\n",
        "\n",
        "# cleaned: lowercase columns, no missing values\n",
        "print(df.head())\n"
      ],
      "metadata": {
        "id": "HTDyRr4TB1CI"
      },
      "execution_count": null,
      "outputs": []
    },
    {
      "cell_type": "code",
      "source": [
        "print(df.columns)\n",
        "df['moderate flares'] = pd.to_numeric(df['moderate flares'], errors='coerce')\n",
        "df['severe flares'] = pd.to_numeric(df['severe flares'], errors='coerce')\n",
        "\n",
        "\n",
        "df = df.dropna(subset=['moderate flares', 'severe flares'])\n",
        "\n",
        "df['total_flares'] = df['moderate flares'] + df['severe flares']"
      ],
      "metadata": {
        "id": "Tgar57Ud_zmU"
      },
      "execution_count": null,
      "outputs": []
    },
    {
      "cell_type": "code",
      "source": [
        "import pandas as pd\n",
        "import matplotlib.pyplot as plt\n",
        "import seaborn as sns\n",
        "from ucimlrepo import fetch_ucirepo\n",
        "\n",
        "solar_flare = fetch_ucirepo(id=89)\n",
        "X = solar_flare.data.features\n",
        "y = solar_flare.data.targets\n",
        "\n",
        "df = pd.concat([X, y], axis=1)\n",
        "\n",
        "df.columns = [col.lower() for col in df.columns]\n",
        "\n",
        "df = df.replace('?', pd.NA)\n",
        "\n",
        "\n",
        "df['moderate flares'] = pd.to_numeric(df['moderate flares'], errors='coerce')\n",
        "df['severe flares'] = pd.to_numeric(df['severe flares'], errors='coerce')\n",
        "\n",
        "\n",
        "df = df.dropna(subset=['evolution', 'moderate flares', 'severe flares'])\n",
        "\n",
        "\n",
        "df['total_flares'] = df['moderate flares'] + df['severe flares']\n",
        "\n",
        "\n",
        "\n",
        "growth_map = {\n",
        "    1: 'Decay',\n",
        "    2: 'No Growth',\n",
        "    3: 'Growth'\n",
        "}\n",
        "df['evolution'] = df['evolution'].astype(int).map(growth_map)\n",
        "\n",
        "# Plot 1\n",
        "sns.set()\n",
        "plt.figure(figsize=(6, 4))\n",
        "sns.countplot(data=df, x='evolution', palette='pastel')\n",
        "plt.title('Sunspot Counts based on Evolution Type')\n",
        "plt.xlabel('Evolution Type')\n",
        "plt.ylabel('Count')\n",
        "plt.show()\n",
        "\n",
        "# Plot 2\n",
        "plt.figure(figsize=(8, 5))\n",
        "sns.boxplot(data=df, x='evolution', y='severe flares', palette='muted')\n",
        "plt.title('Severe (X-Class) Flare Distribution by Evolution Type')\n",
        "plt.xlabel('Evolution Type')\n",
        "plt.ylabel('Severe Flares')\n",
        "plt.show()\n",
        "\n",
        "# Plot 3\n",
        "plt.figure(figsize=(8, 5))\n",
        "sns.boxplot(data=df, x='evolution', y='total_flares', palette='muted')\n",
        "plt.title('Total Flare Distribution by Evolution Type')\n",
        "plt.xlabel('Evolution Type')\n",
        "plt.ylabel('Total Flares')\n",
        "plt.show()\n"
      ],
      "metadata": {
        "id": "la9tBQQ2yvKK"
      },
      "execution_count": null,
      "outputs": []
    },
    {
      "cell_type": "code",
      "source": [
        "print(\"Null Hypothesis:\")\n",
        "print(\"The mean total flare activity is the same across all sunspot evolution types.\")\n",
        "\n",
        "print(\"Alternative Hypothesis:\")\n",
        "print(\"At least one sunspot evolution type has a different mean total flare activity.\")\n",
        "\n",
        "\n"
      ],
      "metadata": {
        "id": "HJdFHmqzIDDv"
      },
      "execution_count": null,
      "outputs": []
    },
    {
      "cell_type": "code",
      "source": [
        "import pandas as pd\n",
        "import scipy.stats as stats\n",
        "from ucimlrepo import fetch_ucirepo\n",
        "\n",
        "# Get the data\n",
        "solar_flare = fetch_ucirepo(id=89)\n",
        "X = solar_flare.data.features\n",
        "y = solar_flare.data.targets\n",
        "\n",
        "# Combine features and targets\n",
        "df = pd.concat([X, y], axis=1)\n",
        "\n",
        "# Make flare columns numbers (in case they're strings)\n",
        "df['moderate flares'] = pd.to_numeric(df['moderate flares'], errors='coerce')\n",
        "df['severe flares'] = pd.to_numeric(df['severe flares'], errors='coerce')\n",
        "\n",
        "# Remove rows with missing data in important columns\n",
        "df = df.dropna(subset=['evolution', 'moderate flares', 'severe flares'])\n",
        "\n",
        "# Add total flares column\n",
        "df['total_flares'] = df['moderate flares'] + df['severe flares']\n",
        "\n",
        "# Count how many data points per evolution type\n",
        "counts = df.groupby('evolution')['total_flares'].count()\n",
        "print(\"Data points per evolution type:\")\n",
        "print(counts)\n",
        "\n",
        "# Make groups only if they have at least 2 data points\n",
        "groups = []\n",
        "for evolution_type in sorted(df['evolution'].unique()):\n",
        "    group_data = df[df['evolution'] == evolution_type]['total_flares']\n",
        "    if len(group_data) > 1:\n",
        "        groups.append(group_data)\n",
        "\n",
        "if len(groups) >= 2:\n",
        "    f_stat, p_val = stats.f_oneway(*groups)\n",
        "    print(f\"\\nANOVA F-statistic: {f_stat:.3f}\")\n",
        "    print(f\"p-value: {p_val:.3f}\")\n",
        "\n",
        "    if p_val < 0.05:\n",
        "        print(\"Reject null hypothesis: There is a difference between groups.\")\n",
        "    else:\n",
        "        print(\"Fail to reject null hypothesis: No difference found between groups.\")\n",
        "else:\n",
        "    print(\"Not enough groups with enough data to run ANOVA.\")\n"
      ],
      "metadata": {
        "id": "deEN3lxMIb9_"
      },
      "execution_count": null,
      "outputs": []
    },
    {
      "cell_type": "code",
      "source": [],
      "metadata": {
        "id": "LTxY2LY4IyS7"
      },
      "execution_count": null,
      "outputs": []
    },
    {
      "cell_type": "code",
      "metadata": {
        "id": "eb2690e4"
      },
      "source": [
        "import matplotlib.pyplot as plt\n",
        "import seaborn as sns\n",
        "import numpy as np\n",
        "import pandas as pd\n",
        "\n",
        "\n",
        "grouped = df.groupby('evolution')['total_flares']\n",
        "means = grouped.mean()\n",
        "errors = grouped.sem()\n",
        "\n",
        "colors = {\n",
        "    'Growth': '#66c2a5',\n",
        "    'No Growth': '#fc8d62',\n",
        "    'Decay': '#8da0cb'\n",
        "}\n",
        "\n",
        "labels = list(colors.keys())\n",
        "mean_vals = [means[label] for label in labels]\n",
        "error_vals = [errors[label] for label in labels]\n",
        "bar_colors = [colors[label] for label in labels]\n",
        "\n",
        "plt.figure(figsize=(8, 5))\n",
        "bars = plt.bar(labels, mean_vals, yerr=error_vals, color=bar_colors, capsize=5)\n",
        "\n",
        "\n",
        "from matplotlib.patches import Patch\n",
        "legend_elements = [Patch(facecolor=colors[label], label=label) for label in colors]\n",
        "plt.legend(handles=legend_elements, title='Evolution Type')\n",
        "\n",
        "plt.title('Average Total Flares by Evolution Type')\n",
        "plt.ylabel('Mean Total Flares')\n",
        "plt.xlabel('Evolution Type')\n",
        "plt.tight_layout()\n",
        "plt.show()\n"
      ],
      "execution_count": null,
      "outputs": []
    }
  ]
}